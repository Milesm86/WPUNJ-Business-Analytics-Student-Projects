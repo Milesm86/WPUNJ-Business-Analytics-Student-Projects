{
 "cells": [
  {
   "cell_type": "markdown",
   "metadata": {},
   "source": [
    "## Assignment #4: Survey Data\n",
    "## Marcus Miles\n",
    "\n",
    "### Ban 7750-70: Financial Analytics\n",
    "### Date: August 3, 2019"
   ]
  },
  {
   "cell_type": "code",
   "execution_count": 133,
   "metadata": {},
   "outputs": [
    {
     "data": {
      "text/html": [
       "<div>\n",
       "<style scoped>\n",
       "    .dataframe tbody tr th:only-of-type {\n",
       "        vertical-align: middle;\n",
       "    }\n",
       "\n",
       "    .dataframe tbody tr th {\n",
       "        vertical-align: top;\n",
       "    }\n",
       "\n",
       "    .dataframe thead th {\n",
       "        text-align: right;\n",
       "    }\n",
       "</style>\n",
       "<table border=\"1\" class=\"dataframe\">\n",
       "  <thead>\n",
       "    <tr style=\"text-align: right;\">\n",
       "      <th></th>\n",
       "      <th>desk</th>\n",
       "      <th>trader_id</th>\n",
       "      <th>id.o</th>\n",
       "      <th>gender</th>\n",
       "      <th>buy_strat</th>\n",
       "      <th>q4</th>\n",
       "      <th>q5</th>\n",
       "      <th>q1</th>\n",
       "      <th>q2</th>\n",
       "      <th>q3</th>\n",
       "      <th>...</th>\n",
       "      <th>q22</th>\n",
       "      <th>q23</th>\n",
       "      <th>q24</th>\n",
       "      <th>q26</th>\n",
       "      <th>q27</th>\n",
       "      <th>q45</th>\n",
       "      <th>q28</th>\n",
       "      <th>q47</th>\n",
       "      <th>q29</th>\n",
       "      <th>q30</th>\n",
       "    </tr>\n",
       "  </thead>\n",
       "  <tbody>\n",
       "    <tr>\n",
       "      <th>0</th>\n",
       "      <td>NaN</td>\n",
       "      <td>NaN</td>\n",
       "      <td>NaN</td>\n",
       "      <td>Gender</td>\n",
       "      <td>Based on the INFORMATION provided, the best st...</td>\n",
       "      <td>I traded based on price movements indicated on...</td>\n",
       "      <td>I was not concerned about price movements indi...</td>\n",
       "      <td>I traded without considering the information p...</td>\n",
       "      <td>I traded using ALL of the information provided...</td>\n",
       "      <td>I traded using SOME of the information provide...</td>\n",
       "      <td>...</td>\n",
       "      <td>I believe that technological tools are more im...</td>\n",
       "      <td>I believe that information and technological t...</td>\n",
       "      <td>I would have traded differently if the informa...</td>\n",
       "      <td>This experience has made me more interested in...</td>\n",
       "      <td>I believe that I could have earned more profit...</td>\n",
       "      <td>I believe that I could have earned more profit...</td>\n",
       "      <td>I believe that I could have earned more profit...</td>\n",
       "      <td>I believe that I could have earned more profit...</td>\n",
       "      <td>I could have earned more profits if I knew wha...</td>\n",
       "      <td>I have had prior experience in live trading st...</td>\n",
       "    </tr>\n",
       "    <tr>\n",
       "      <th>1</th>\n",
       "      <td>S6</td>\n",
       "      <td>C14a1</td>\n",
       "      <td>S6C14a1</td>\n",
       "      <td>F</td>\n",
       "      <td>BUY FIRST AND THEN SELL LATER to make profit (...</td>\n",
       "      <td>Agree</td>\n",
       "      <td>Strongly Disagree</td>\n",
       "      <td>Strongly Disagree</td>\n",
       "      <td>Strongly Agree</td>\n",
       "      <td>Neither Agree nor Disagree</td>\n",
       "      <td>...</td>\n",
       "      <td>Neither Agree nor Disagree</td>\n",
       "      <td>Strongly Agree</td>\n",
       "      <td>Neither Agree nor Disagree</td>\n",
       "      <td>Agree</td>\n",
       "      <td>Neither Agree nor Disagree</td>\n",
       "      <td>Neither Agree nor Disagree</td>\n",
       "      <td>Neither Agree nor Disagree</td>\n",
       "      <td>Neither Agree nor Disagree</td>\n",
       "      <td>Agree</td>\n",
       "      <td>Yes</td>\n",
       "    </tr>\n",
       "    <tr>\n",
       "      <th>2</th>\n",
       "      <td>S6</td>\n",
       "      <td>C12B1</td>\n",
       "      <td>S6C12B1</td>\n",
       "      <td>F</td>\n",
       "      <td>SELL FIRST AND THEN BUY LATER to make profit (...</td>\n",
       "      <td>Strongly Disagree</td>\n",
       "      <td>Strongly Agree</td>\n",
       "      <td>Strongly Agree</td>\n",
       "      <td>Strongly Disagree</td>\n",
       "      <td>Agree</td>\n",
       "      <td>...</td>\n",
       "      <td>Neither Agree nor Disagree</td>\n",
       "      <td>Strongly Agree</td>\n",
       "      <td>Neither Agree nor Disagree</td>\n",
       "      <td>Neither Agree nor Disagree</td>\n",
       "      <td>Neither Agree nor Disagree</td>\n",
       "      <td>Agree</td>\n",
       "      <td>Agree</td>\n",
       "      <td>Agree</td>\n",
       "      <td>Strongly Agree</td>\n",
       "      <td>No</td>\n",
       "    </tr>\n",
       "    <tr>\n",
       "      <th>3</th>\n",
       "      <td>S6</td>\n",
       "      <td>C1514</td>\n",
       "      <td>S6C1514</td>\n",
       "      <td>M</td>\n",
       "      <td>SELL FIRST AND THEN BUY LATER to make profit (...</td>\n",
       "      <td>Strongly Agree</td>\n",
       "      <td>Strongly Disagree</td>\n",
       "      <td>Strongly Disagree</td>\n",
       "      <td>Strongly Agree</td>\n",
       "      <td>Disagree</td>\n",
       "      <td>...</td>\n",
       "      <td>Disagree</td>\n",
       "      <td>Agree</td>\n",
       "      <td>Strongly Agree</td>\n",
       "      <td>Strongly Agree</td>\n",
       "      <td>Agree</td>\n",
       "      <td>Neither Agree nor Disagree</td>\n",
       "      <td>Neither Agree nor Disagree</td>\n",
       "      <td>Neither Agree nor Disagree</td>\n",
       "      <td>Strongly Agree</td>\n",
       "      <td>No</td>\n",
       "    </tr>\n",
       "    <tr>\n",
       "      <th>4</th>\n",
       "      <td>S6</td>\n",
       "      <td>C1414</td>\n",
       "      <td>S6C1414</td>\n",
       "      <td>M</td>\n",
       "      <td>SELL FIRST AND THEN BUY LATER to make profit (...</td>\n",
       "      <td>Agree</td>\n",
       "      <td>Disagree</td>\n",
       "      <td>Strongly Agree</td>\n",
       "      <td>Neither Agree nor Disagree</td>\n",
       "      <td>Neither Agree nor Disagree</td>\n",
       "      <td>...</td>\n",
       "      <td>Strongly Disagree</td>\n",
       "      <td>Disagree</td>\n",
       "      <td>Neither Agree nor Disagree</td>\n",
       "      <td>Strongly Agree</td>\n",
       "      <td>Strongly Agree</td>\n",
       "      <td>Neither Agree nor Disagree</td>\n",
       "      <td>Neither Agree nor Disagree</td>\n",
       "      <td>Neither Agree nor Disagree</td>\n",
       "      <td>Neither Agree nor Disagree</td>\n",
       "      <td>No</td>\n",
       "    </tr>\n",
       "  </tbody>\n",
       "</table>\n",
       "<p>5 rows × 36 columns</p>\n",
       "</div>"
      ],
      "text/plain": [
       "  desk trader_id     id.o  gender  \\\n",
       "0  NaN       NaN      NaN  Gender   \n",
       "1   S6     C14a1  S6C14a1       F   \n",
       "2   S6     C12B1  S6C12B1       F   \n",
       "3   S6     C1514  S6C1514       M   \n",
       "4   S6     C1414  S6C1414       M   \n",
       "\n",
       "                                           buy_strat  \\\n",
       "0  Based on the INFORMATION provided, the best st...   \n",
       "1  BUY FIRST AND THEN SELL LATER to make profit (...   \n",
       "2  SELL FIRST AND THEN BUY LATER to make profit (...   \n",
       "3  SELL FIRST AND THEN BUY LATER to make profit (...   \n",
       "4  SELL FIRST AND THEN BUY LATER to make profit (...   \n",
       "\n",
       "                                                  q4  \\\n",
       "0  I traded based on price movements indicated on...   \n",
       "1                                              Agree   \n",
       "2                                  Strongly Disagree   \n",
       "3                                     Strongly Agree   \n",
       "4                                              Agree   \n",
       "\n",
       "                                                  q5  \\\n",
       "0  I was not concerned about price movements indi...   \n",
       "1                                  Strongly Disagree   \n",
       "2                                     Strongly Agree   \n",
       "3                                  Strongly Disagree   \n",
       "4                                           Disagree   \n",
       "\n",
       "                                                  q1  \\\n",
       "0  I traded without considering the information p...   \n",
       "1                                  Strongly Disagree   \n",
       "2                                     Strongly Agree   \n",
       "3                                  Strongly Disagree   \n",
       "4                                     Strongly Agree   \n",
       "\n",
       "                                                  q2  \\\n",
       "0  I traded using ALL of the information provided...   \n",
       "1                                     Strongly Agree   \n",
       "2                                  Strongly Disagree   \n",
       "3                                     Strongly Agree   \n",
       "4                         Neither Agree nor Disagree   \n",
       "\n",
       "                                                  q3  ...  \\\n",
       "0  I traded using SOME of the information provide...  ...   \n",
       "1                         Neither Agree nor Disagree  ...   \n",
       "2                                              Agree  ...   \n",
       "3                                           Disagree  ...   \n",
       "4                         Neither Agree nor Disagree  ...   \n",
       "\n",
       "                                                 q22  \\\n",
       "0  I believe that technological tools are more im...   \n",
       "1                         Neither Agree nor Disagree   \n",
       "2                         Neither Agree nor Disagree   \n",
       "3                                           Disagree   \n",
       "4                                  Strongly Disagree   \n",
       "\n",
       "                                                 q23  \\\n",
       "0  I believe that information and technological t...   \n",
       "1                                     Strongly Agree   \n",
       "2                                     Strongly Agree   \n",
       "3                                              Agree   \n",
       "4                                           Disagree   \n",
       "\n",
       "                                                 q24  \\\n",
       "0  I would have traded differently if the informa...   \n",
       "1                         Neither Agree nor Disagree   \n",
       "2                         Neither Agree nor Disagree   \n",
       "3                                     Strongly Agree   \n",
       "4                         Neither Agree nor Disagree   \n",
       "\n",
       "                                                 q26  \\\n",
       "0  This experience has made me more interested in...   \n",
       "1                                              Agree   \n",
       "2                         Neither Agree nor Disagree   \n",
       "3                                     Strongly Agree   \n",
       "4                                     Strongly Agree   \n",
       "\n",
       "                                                 q27  \\\n",
       "0  I believe that I could have earned more profit...   \n",
       "1                         Neither Agree nor Disagree   \n",
       "2                         Neither Agree nor Disagree   \n",
       "3                                              Agree   \n",
       "4                                     Strongly Agree   \n",
       "\n",
       "                                                 q45  \\\n",
       "0  I believe that I could have earned more profit...   \n",
       "1                         Neither Agree nor Disagree   \n",
       "2                                              Agree   \n",
       "3                         Neither Agree nor Disagree   \n",
       "4                         Neither Agree nor Disagree   \n",
       "\n",
       "                                                 q28  \\\n",
       "0  I believe that I could have earned more profit...   \n",
       "1                         Neither Agree nor Disagree   \n",
       "2                                              Agree   \n",
       "3                         Neither Agree nor Disagree   \n",
       "4                         Neither Agree nor Disagree   \n",
       "\n",
       "                                                 q47  \\\n",
       "0  I believe that I could have earned more profit...   \n",
       "1                         Neither Agree nor Disagree   \n",
       "2                                              Agree   \n",
       "3                         Neither Agree nor Disagree   \n",
       "4                         Neither Agree nor Disagree   \n",
       "\n",
       "                                                 q29  \\\n",
       "0  I could have earned more profits if I knew wha...   \n",
       "1                                              Agree   \n",
       "2                                     Strongly Agree   \n",
       "3                                     Strongly Agree   \n",
       "4                         Neither Agree nor Disagree   \n",
       "\n",
       "                                                 q30  \n",
       "0  I have had prior experience in live trading st...  \n",
       "1                                                Yes  \n",
       "2                                                 No  \n",
       "3                                                 No  \n",
       "4                                                 No  \n",
       "\n",
       "[5 rows x 36 columns]"
      ]
     },
     "execution_count": 133,
     "metadata": {},
     "output_type": "execute_result"
    }
   ],
   "source": [
    "import pandas as pd\n",
    "import numpy as np\n",
    "import seaborn as sns\n",
    "import matplotlib.pyplot as plt\n",
    "%matplotlib inline\n",
    "\n",
    "survey = pd.read_excel(r'C:\\Users\\DaBeast2\\Survey_clean.xlsx')\n",
    "\n",
    "survey.columns = survey.columns.str.strip().str.lower().str.replace(' ', '_').str.replace('(', '').str.replace(')', '')\n",
    "\n",
    "#splits id.o column into two columns\n",
    "new = survey['id.o'].str.partition('C')\n",
    "new[3] = new[1] + new[2]\n",
    "new_df = pd.DataFrame(data = new, columns = (0,3))\n",
    "\n",
    "new_df = new_df.rename(columns = {0:'desk',3:'trader_id'})\n",
    "\n",
    "#insert new variables into trade dataframe\n",
    "survey.insert(0,'desk', new_df['desk'])\n",
    "survey.insert(1,'trader_id', new_df['trader_id'])\n",
    "#trade = trade.drop('id.o', axis = 1)\n",
    "survey.rename(columns = {'unnamed:_1':'gender','unnamed:_2':'buy_strat' },inplace = True)\n",
    "survey.head(5)"
   ]
  },
  {
   "cell_type": "code",
   "execution_count": 134,
   "metadata": {},
   "outputs": [],
   "source": [
    "headers = survey.loc[0]\n",
    "survey = survey.drop(0)"
   ]
  },
  {
   "cell_type": "markdown",
   "metadata": {},
   "source": [
    "The following code is used to change the questionnaire answers into numeric categories. I tried to figure out a for loop to make the change\n",
    "for all of the question columns but I didn't succeed at it and it was taking me a long time to figure out. Hence why you see the same line \n",
    "of code multiple times. "
   ]
  },
  {
   "cell_type": "code",
   "execution_count": 122,
   "metadata": {},
   "outputs": [],
   "source": [
    "#Mapping the ordinal data into the dataframe\n",
    "survey['gender'] = survey['gender'].astype('category')\n",
    "survey['q30'] = survey.q30.map({\"No\":0,'Yes':1})\n",
    "survey['q1'] = survey.q1.map({'Strongly Agree':1,'Agree':2,'Neither Agree nor Disagree':3,'Disagree':4,\"Strongly Disagree\":5})\n",
    "survey['q2'] = survey.q2.map({'Strongly Agree':1,'Agree':2,'Neither Agree nor Disagree':3,'Disagree':4,\"Strongly Disagree\":5})\n",
    "survey['q3'] = survey.q3.map({'Strongly Agree':1,'Agree':2,'Neither Agree nor Disagree':3,'Disagree':4,\"Strongly Disagree\":5})\n",
    "survey['q4'] = survey.q4.map({'Strongly Agree':1,'Agree':2,'Neither Agree nor Disagree':3,'Disagree':4,\"Strongly Disagree\":5})\n",
    "survey['q5'] = survey.q5.map({'Strongly Agree':1,'Agree':2,'Neither Agree nor Disagree':3,'Disagree':4,\"Strongly Disagree\":5})\n",
    "survey['q6'] = survey.q6.map({'Strongly Agree':1,'Agree':2,'Neither Agree nor Disagree':3,'Disagree':4,\"Strongly Disagree\":5})\n",
    "survey['q7'] = survey.q7.map({'Strongly Agree':1,'Agree':2,'Neither Agree nor Disagree':3,'Disagree':4,\"Strongly Disagree\":5})\n",
    "survey['q8'] = survey.q8.map({'Strongly Agree':1,'Agree':2,'Neither Agree nor Disagree':3,'Disagree':4,\"Strongly Disagree\":5})\n",
    "survey['q9'] = survey.q9.map({'Strongly Agree':1,'Agree':2,'Neither Agree nor Disagree':3,'Disagree':4,\"Strongly Disagree\":5})\n",
    "survey['q10'] = survey.q10.map({'Strongly Agree':1,'Agree':2,'Neither Agree nor Disagree':3,'Disagree':4,\"Strongly Disagree\":5})\n",
    "survey['q11'] = survey.q11.map({'Strongly Agree':1,'Agree':2,'Neither Agree nor Disagree':3,'Disagree':4,\"Strongly Disagree\":5})\n",
    "survey['q12'] = survey.q12.map({'Strongly Agree':1,'Agree':2,'Neither Agree nor Disagree':3,'Disagree':4,\"Strongly Disagree\":5})\n",
    "survey['q13'] = survey.q13.map({'Strongly Agree':1,'Agree':2,'Neither Agree nor Disagree':3,'Disagree':4,\"Strongly Disagree\":5})\n",
    "survey['q14'] = survey.q14.map({'Strongly Agree':1,'Agree':2,'Neither Agree nor Disagree':3,'Disagree':4,\"Strongly Disagree\":5})\n",
    "survey['q15'] = survey.q15.map({'Strongly Agree':1,'Agree':2,'Neither Agree nor Disagree':3,'Disagree':4,\"Strongly Disagree\":5})\n",
    "survey['q16'] = survey.q16.map({'Strongly Agree':1,'Agree':2,'Neither Agree nor Disagree':3,'Disagree':4,\"Strongly Disagree\":5})\n",
    "survey['q17'] = survey.q17.map({'Strongly Agree':1,'Agree':2,'Neither Agree nor Disagree':3,'Disagree':4,\"Strongly Disagree\":5})\n",
    "survey['q18'] = survey.q18.map({'Strongly Agree':1,'Agree':2,'Neither Agree nor Disagree':3,'Disagree':4,\"Strongly Disagree\":5})\n",
    "survey['q19'] = survey.q19.map({'Strongly Agree':1,'Agree':2,'Neither Agree nor Disagree':3,'Disagree':4,\"Strongly Disagree\":5})\n",
    "survey['q20'] = survey.q20.map({'Strongly Agree':1,'Agree':2,'Neither Agree nor Disagree':3,'Disagree':4,\"Strongly Disagree\":5})\n",
    "survey['q21'] = survey.q21.map({'Strongly Agree':1,'Agree':2,'Neither Agree nor Disagree':3,'Disagree':4,\"Strongly Disagree\":5})\n",
    "survey['q22'] = survey.q22.map({'Strongly Agree':1,'Agree':2,'Neither Agree nor Disagree':3,'Disagree':4,\"Strongly Disagree\":5})\n",
    "survey['q23'] = survey.q23.map({'Strongly Agree':1,'Agree':2,'Neither Agree nor Disagree':3,'Disagree':4,\"Strongly Disagree\":5})\n",
    "survey['q24'] = survey.q24.map({'Strongly Agree':1,'Agree':2,'Neither Agree nor Disagree':3,'Disagree':4,\"Strongly Disagree\":5})\n",
    "survey['q26'] = survey.q26.map({'Strongly Agree':1,'Agree':2,'Neither Agree nor Disagree':3,'Disagree':4,\"Strongly Disagree\":5})\n",
    "survey['q27'] = survey.q27.map({'Strongly Agree':1,'Agree':2,'Neither Agree nor Disagree':3,'Disagree':4,\"Strongly Disagree\":5})\n",
    "survey['q28'] = survey.q28.map({'Strongly Agree':1,'Agree':2,'Neither Agree nor Disagree':3,'Disagree':4,\"Strongly Disagree\":5})\n",
    "survey['q29'] = survey.q29.map({'Strongly Agree':1,'Agree':2,'Neither Agree nor Disagree':3,'Disagree':4,\"Strongly Disagree\":5})\n",
    "survey['q45'] = survey.q45.map({'Strongly Agree':1,'Agree':2,'Neither Agree nor Disagree':3,'Disagree':4,\"Strongly Disagree\":5})\n",
    "survey['q47'] = survey.q47.map({'Strongly Agree':1,'Agree':2,'Neither Agree nor Disagree':3,'Disagree':4,\"Strongly Disagree\":5})"
   ]
  },
  {
   "cell_type": "code",
   "execution_count": 82,
   "metadata": {},
   "outputs": [
    {
     "name": "stdout",
     "output_type": "stream",
     "text": [
      "desk         0\n",
      "trader_id    0\n",
      "id.o         0\n",
      "gender       0\n",
      "buy_strat    0\n",
      "q4           0\n",
      "q5           0\n",
      "q1           0\n",
      "q2           0\n",
      "q3           0\n",
      "q6           0\n",
      "q7           0\n",
      "q8           0\n",
      "q9           0\n",
      "q10          0\n",
      "q11          0\n",
      "q12          0\n",
      "q13          0\n",
      "q14          0\n",
      "q15          0\n",
      "q16          0\n",
      "q17          0\n",
      "q18          0\n",
      "q19          0\n",
      "q20          0\n",
      "q21          0\n",
      "q22          0\n",
      "q23          0\n",
      "q24          0\n",
      "q26          0\n",
      "q27          0\n",
      "q45          0\n",
      "q28          0\n",
      "q47          0\n",
      "q29          0\n",
      "q30          0\n",
      "dtype: int64\n"
     ]
    }
   ],
   "source": [
    "print(survey.isnull().sum())\n",
    "#survey.columns"
   ]
  },
  {
   "cell_type": "code",
   "execution_count": 136,
   "metadata": {},
   "outputs": [
    {
     "data": {
      "text/html": [
       "<div>\n",
       "<style scoped>\n",
       "    .dataframe tbody tr th:only-of-type {\n",
       "        vertical-align: middle;\n",
       "    }\n",
       "\n",
       "    .dataframe tbody tr th {\n",
       "        vertical-align: top;\n",
       "    }\n",
       "\n",
       "    .dataframe thead th {\n",
       "        text-align: right;\n",
       "    }\n",
       "</style>\n",
       "<table border=\"1\" class=\"dataframe\">\n",
       "  <thead>\n",
       "    <tr style=\"text-align: right;\">\n",
       "      <th></th>\n",
       "      <th>desk</th>\n",
       "      <th>trader_id</th>\n",
       "      <th>id.o</th>\n",
       "      <th>gender</th>\n",
       "      <th>buy_strat</th>\n",
       "      <th>q4</th>\n",
       "      <th>q5</th>\n",
       "      <th>q1</th>\n",
       "      <th>q2</th>\n",
       "      <th>q3</th>\n",
       "      <th>...</th>\n",
       "      <th>q22</th>\n",
       "      <th>q23</th>\n",
       "      <th>q24</th>\n",
       "      <th>q26</th>\n",
       "      <th>q27</th>\n",
       "      <th>q45</th>\n",
       "      <th>q28</th>\n",
       "      <th>q47</th>\n",
       "      <th>q29</th>\n",
       "      <th>q30</th>\n",
       "    </tr>\n",
       "  </thead>\n",
       "  <tbody>\n",
       "    <tr>\n",
       "      <th>1</th>\n",
       "      <td>S6</td>\n",
       "      <td>C14a1</td>\n",
       "      <td>S6C14a1</td>\n",
       "      <td>F</td>\n",
       "      <td>BUY FIRST AND THEN SELL LATER to make profit (...</td>\n",
       "      <td>2</td>\n",
       "      <td>5</td>\n",
       "      <td>5</td>\n",
       "      <td>1</td>\n",
       "      <td>3</td>\n",
       "      <td>...</td>\n",
       "      <td>3</td>\n",
       "      <td>1</td>\n",
       "      <td>3</td>\n",
       "      <td>2</td>\n",
       "      <td>3</td>\n",
       "      <td>3</td>\n",
       "      <td>3</td>\n",
       "      <td>3</td>\n",
       "      <td>2</td>\n",
       "      <td>Yes</td>\n",
       "    </tr>\n",
       "    <tr>\n",
       "      <th>2</th>\n",
       "      <td>S6</td>\n",
       "      <td>C12B1</td>\n",
       "      <td>S6C12B1</td>\n",
       "      <td>F</td>\n",
       "      <td>SELL FIRST AND THEN BUY LATER to make profit (...</td>\n",
       "      <td>5</td>\n",
       "      <td>1</td>\n",
       "      <td>1</td>\n",
       "      <td>5</td>\n",
       "      <td>2</td>\n",
       "      <td>...</td>\n",
       "      <td>3</td>\n",
       "      <td>1</td>\n",
       "      <td>3</td>\n",
       "      <td>3</td>\n",
       "      <td>3</td>\n",
       "      <td>2</td>\n",
       "      <td>2</td>\n",
       "      <td>2</td>\n",
       "      <td>1</td>\n",
       "      <td>No</td>\n",
       "    </tr>\n",
       "    <tr>\n",
       "      <th>3</th>\n",
       "      <td>S6</td>\n",
       "      <td>C1514</td>\n",
       "      <td>S6C1514</td>\n",
       "      <td>M</td>\n",
       "      <td>SELL FIRST AND THEN BUY LATER to make profit (...</td>\n",
       "      <td>1</td>\n",
       "      <td>5</td>\n",
       "      <td>5</td>\n",
       "      <td>1</td>\n",
       "      <td>4</td>\n",
       "      <td>...</td>\n",
       "      <td>4</td>\n",
       "      <td>2</td>\n",
       "      <td>1</td>\n",
       "      <td>1</td>\n",
       "      <td>2</td>\n",
       "      <td>3</td>\n",
       "      <td>3</td>\n",
       "      <td>3</td>\n",
       "      <td>1</td>\n",
       "      <td>No</td>\n",
       "    </tr>\n",
       "    <tr>\n",
       "      <th>4</th>\n",
       "      <td>S6</td>\n",
       "      <td>C1414</td>\n",
       "      <td>S6C1414</td>\n",
       "      <td>M</td>\n",
       "      <td>SELL FIRST AND THEN BUY LATER to make profit (...</td>\n",
       "      <td>2</td>\n",
       "      <td>4</td>\n",
       "      <td>1</td>\n",
       "      <td>3</td>\n",
       "      <td>3</td>\n",
       "      <td>...</td>\n",
       "      <td>5</td>\n",
       "      <td>4</td>\n",
       "      <td>3</td>\n",
       "      <td>1</td>\n",
       "      <td>1</td>\n",
       "      <td>3</td>\n",
       "      <td>3</td>\n",
       "      <td>3</td>\n",
       "      <td>3</td>\n",
       "      <td>No</td>\n",
       "    </tr>\n",
       "    <tr>\n",
       "      <th>5</th>\n",
       "      <td>S6</td>\n",
       "      <td>C14b1</td>\n",
       "      <td>S6C14b1</td>\n",
       "      <td>M</td>\n",
       "      <td>BUY FIRST AND THEN SELL LATER to make profit (...</td>\n",
       "      <td>1</td>\n",
       "      <td>5</td>\n",
       "      <td>5</td>\n",
       "      <td>3</td>\n",
       "      <td>1</td>\n",
       "      <td>...</td>\n",
       "      <td>3</td>\n",
       "      <td>4</td>\n",
       "      <td>1</td>\n",
       "      <td>1</td>\n",
       "      <td>1</td>\n",
       "      <td>1</td>\n",
       "      <td>1</td>\n",
       "      <td>1</td>\n",
       "      <td>4</td>\n",
       "      <td>No</td>\n",
       "    </tr>\n",
       "  </tbody>\n",
       "</table>\n",
       "<p>5 rows × 36 columns</p>\n",
       "</div>"
      ],
      "text/plain": [
       "  desk trader_id     id.o gender  \\\n",
       "1   S6     C14a1  S6C14a1      F   \n",
       "2   S6     C12B1  S6C12B1      F   \n",
       "3   S6     C1514  S6C1514      M   \n",
       "4   S6     C1414  S6C1414      M   \n",
       "5   S6     C14b1  S6C14b1      M   \n",
       "\n",
       "                                           buy_strat  q4  q5  q1  q2  q3  ...  \\\n",
       "1  BUY FIRST AND THEN SELL LATER to make profit (...   2   5   5   1   3  ...   \n",
       "2  SELL FIRST AND THEN BUY LATER to make profit (...   5   1   1   5   2  ...   \n",
       "3  SELL FIRST AND THEN BUY LATER to make profit (...   1   5   5   1   4  ...   \n",
       "4  SELL FIRST AND THEN BUY LATER to make profit (...   2   4   1   3   3  ...   \n",
       "5  BUY FIRST AND THEN SELL LATER to make profit (...   1   5   5   3   1  ...   \n",
       "\n",
       "   q22  q23  q24  q26  q27  q45  q28  q47  q29  q30  \n",
       "1    3    1    3    2    3    3    3    3    2  Yes  \n",
       "2    3    1    3    3    3    2    2    2    1   No  \n",
       "3    4    2    1    1    2    3    3    3    1   No  \n",
       "4    5    4    3    1    1    3    3    3    3   No  \n",
       "5    3    4    1    1    1    1    1    1    4   No  \n",
       "\n",
       "[5 rows x 36 columns]"
      ]
     },
     "execution_count": 136,
     "metadata": {},
     "output_type": "execute_result"
    }
   ],
   "source": [
    "#survey.replace(('Strongly Agree','Agree','Neither Agree nor Disagree','Disagree','Strongly Disagree'),(1,2,3,4,5,),inplace=True)\n",
    "survey.head(5)"
   ]
  },
  {
   "cell_type": "code",
   "execution_count": 84,
   "metadata": {},
   "outputs": [
    {
     "data": {
      "text/plain": [
       "12"
      ]
     },
     "execution_count": 84,
     "metadata": {},
     "output_type": "execute_result"
    }
   ],
   "source": [
    "len(survey['desk'].unique().tolist())"
   ]
  },
  {
   "cell_type": "code",
   "execution_count": 86,
   "metadata": {
    "collapsed": true,
    "jupyter": {
     "outputs_hidden": true
    }
   },
   "outputs": [
    {
     "data": {
      "text/plain": [
       "array([nan, nan, nan, 'Gender',\n",
       "       'Based on the INFORMATION provided, the best strategy is to:',\n",
       "       'I traded based on price movements indicated on the TraderEx screen',\n",
       "       'I was not concerned about price movements indicated on the TraderEx screen',\n",
       "       'I traded without considering the information pieces provided to me',\n",
       "       'I traded using ALL of the information provided to me at each stage',\n",
       "       'I traded using SOME of the information provided to me at each stage',\n",
       "       'I did my best to win the maximum possible reward of $ 50.00',\n",
       "       'I did my best to win at least one of the cash rewards of $ 5 or $ 10 but did not focus on $ 50',\n",
       "       'I did not want the cash rewards at all',\n",
       "       'I believe that I can improve on my net profits if I had more information even if I did not have any technological tools to analyze the information',\n",
       "       'I believe that I can improve on my net profits if I had more technological tools for analysis even if I did not have any additional information',\n",
       "       'I believe that I can improve on my net profits if I had more \\ntechnological tools for analysis along with more information',\n",
       "       'The source (Highly reputed like Wall Street Journal/ Bloomberg versus low/unknown reputation like Sun news) of information would impact my trading decisions',\n",
       "       'Quantity of information would impact my trading decisions (More or less information would have made a difference).',\n",
       "       'The medium (news /blog /video/ tool based) of information impacted my trading decisions',\n",
       "       'I believe that more stock specific information could have helped me to increase my net profits',\n",
       "       'I would have invested 10 cents of my own money for more information for a better attempt to win the $ 50.00',\n",
       "       'I would have invested 10 cents of my own money for better tech tools for a stronger attempt to win the $ 50.00',\n",
       "       'I would have invested $ 1.00 of my own money for more information for a better attempt to win the $ 50.00',\n",
       "       'I would have invested $ 1.00 of my own money for better tech tools for a stronger attempt to win the $ 50.00',\n",
       "       'I believe that technological tools can help me to make more profits',\n",
       "       'I believe that information is more important than technological tools',\n",
       "       'I believe that technological tools are more important than information',\n",
       "       'I believe that information and technological tools are equally important',\n",
       "       'I would have traded differently if the information pieces had contained significantly different future predictions for the company',\n",
       "       'This experience has made me more interested in trading',\n",
       "       'I believe that I could have earned more profits if I had MORE information',\n",
       "       'I believe that I could have earned more profits if I had BETTER information',\n",
       "       'I believe that I could have earned more profits if I had MORE technological tools for analyzing information',\n",
       "       'I believe that I could have earned more profits if I had BETTER technological tools for analyzing information',\n",
       "       'I could have earned more profits if I knew what the others were doing or planning on doing with their trades',\n",
       "       'I have had prior experience in live trading stock /shares'],\n",
       "      dtype=object)"
      ]
     },
     "execution_count": 86,
     "metadata": {},
     "output_type": "execute_result"
    }
   ],
   "source": [
    "headers.values"
   ]
  },
  {
   "cell_type": "markdown",
   "metadata": {},
   "source": [
    "I focused on the following 5 survey questions within my analysis:\n",
    "\n",
    "Q12: 'The source (Highly reputed like Wall Street Journal/ Bloomberg versus low/unknown reputation like Sun news) of information would impact my trading decisions'\n",
    "Q13: 'Quantity of information would impact my trading decisions (More or less information would have made a difference).'\n",
    "Q14: 'The medium (news /blog /video/ tool based) of information impacted my trading decisions'\n",
    "Q15: 'I believe that more stock specific information could have helped me to increase my net profits'\n",
    "Q16: 'I would have invested 10 cents of my own money for more information for a better attempt to win the 50.00\n",
    "Q17: 'I would have invested 10 cents of my own money for better tech tools for a stronger attempt to win the 50.00'\n",
    "\n",
    "The answer mapping is as follows:\n",
    "Stongly Agree = 1\n",
    "Agree = 2\n",
    "Neither Agree nor Disagree = 3\n",
    "Disagree = 4\n",
    "Strongly Disagree = 5"
   ]
  },
  {
   "cell_type": "code",
   "execution_count": 130,
   "metadata": {},
   "outputs": [
    {
     "data": {
      "text/plain": [
       "<matplotlib.axes._subplots.AxesSubplot at 0x2580d4dfc88>"
      ]
     },
     "execution_count": 130,
     "metadata": {},
     "output_type": "execute_result"
    },
    {
     "data": {
      "image/png": "[encoded data removed]",
      "text/plain": [
       "<Figure size 1080x720 with 1 Axes>"
      ]
     },
     "metadata": {
      "needs_background": "light"
     },
     "output_type": "display_data"
    }
   ],
   "source": [
    "plt.figure(figsize=(15,10))\n",
    "sns.countplot(x='q12', data= survey, hue='desk')"
   ]
  },
  {
   "cell_type": "code",
   "execution_count": 124,
   "metadata": {},
   "outputs": [
    {
     "data": {
      "text/plain": [
       "<matplotlib.axes._subplots.AxesSubplot at 0x2580c65e198>"
      ]
     },
     "execution_count": 124,
     "metadata": {},
     "output_type": "execute_result"
    },
    {
     "data": {
      "image/png": "[encoded data removed]",
      "text/plain": [
       "<Figure size 1080x720 with 1 Axes>"
      ]
     },
     "metadata": {
      "needs_background": "light"
     },
     "output_type": "display_data"
    }
   ],
   "source": [
    "plt.figure(figsize=(15,10))\n",
    "sns.countplot(x='q13', data= survey, hue='desk')"
   ]
  },
  {
   "cell_type": "code",
   "execution_count": 118,
   "metadata": {},
   "outputs": [
    {
     "data": {
      "text/plain": [
       "<matplotlib.axes._subplots.AxesSubplot at 0x2580b28a8d0>"
      ]
     },
     "execution_count": 118,
     "metadata": {},
     "output_type": "execute_result"
    },
    {
     "data": {
      "image/png": "[encoded data removed]",
      "text/plain": [
       "<Figure size 1080x720 with 1 Axes>"
      ]
     },
     "metadata": {
      "needs_background": "light"
     },
     "output_type": "display_data"
    }
   ],
   "source": [
    "plt.figure(figsize=(15,10))\n",
    "sns.countplot(x='q14', data= survey, hue='desk')"
   ]
  },
  {
   "cell_type": "code",
   "execution_count": 131,
   "metadata": {},
   "outputs": [
    {
     "data": {
      "text/plain": [
       "<matplotlib.axes._subplots.AxesSubplot at 0x2580db22160>"
      ]
     },
     "execution_count": 131,
     "metadata": {},
     "output_type": "execute_result"
    },
    {
     "data": {
      "image/png": "[encoded data removed]",
      "text/plain": [
       "<Figure size 1080x720 with 1 Axes>"
      ]
     },
     "metadata": {
      "needs_background": "light"
     },
     "output_type": "display_data"
    }
   ],
   "source": [
    "plt.figure(figsize=(15,10))\n",
    "sns.countplot(x='q15', data= survey, hue='desk')"
   ]
  },
  {
   "cell_type": "markdown",
   "metadata": {},
   "source": [
    "Based on the information determined from the graphs, most of the traders from group S5 and S3 believed that the more information that they had available to them would have helped them \n",
    "to make better trading decisions. The additional information would have been beneficial to the traders"
   ]
  },
  {
   "cell_type": "markdown",
   "metadata": {},
   "source": [
    "-----------------------------------"
   ]
  },
  {
   "cell_type": "code",
   "execution_count": 129,
   "metadata": {
    "collapsed": true,
    "jupyter": {
     "outputs_hidden": true
    }
   },
   "outputs": [
    {
     "ename": "ValueError",
     "evalue": "could not convert string to float: 'F'",
     "output_type": "error",
     "traceback": [
      "\u001b[1;31m---------------------------------------------------------------------------\u001b[0m",
      "\u001b[1;31mValueError\u001b[0m                                Traceback (most recent call last)",
      "\u001b[1;32m<ipython-input-129-0bcc175f30ca>\u001b[0m in \u001b[0;36m<module>\u001b[1;34m\u001b[0m\n\u001b[0;32m      5\u001b[0m \u001b[0mknn\u001b[0m \u001b[1;33m=\u001b[0m \u001b[0mKNeighborsClassifier\u001b[0m\u001b[1;33m(\u001b[0m\u001b[1;33m)\u001b[0m\u001b[1;33m\u001b[0m\u001b[1;33m\u001b[0m\u001b[0m\n\u001b[0;32m      6\u001b[0m \u001b[1;33m\u001b[0m\u001b[0m\n\u001b[1;32m----> 7\u001b[1;33m \u001b[0mknn\u001b[0m\u001b[1;33m.\u001b[0m\u001b[0mfit\u001b[0m\u001b[1;33m(\u001b[0m\u001b[0mX_train\u001b[0m\u001b[1;33m,\u001b[0m \u001b[0my_train\u001b[0m\u001b[1;33m)\u001b[0m\u001b[1;33m\u001b[0m\u001b[1;33m\u001b[0m\u001b[0m\n\u001b[0m\u001b[0;32m      8\u001b[0m print('Accuracy of K-NN classifier on training set: {:.2f}'\n\u001b[0;32m      9\u001b[0m      .format(knn.score(X_train, y_train)))\n",
      "\u001b[1;32m~\\Anaconda3\\lib\\site-packages\\sklearn\\neighbors\\base.py\u001b[0m in \u001b[0;36mfit\u001b[1;34m(self, X, y)\u001b[0m\n\u001b[0;32m    890\u001b[0m         \"\"\"\n\u001b[0;32m    891\u001b[0m         \u001b[1;32mif\u001b[0m \u001b[1;32mnot\u001b[0m \u001b[0misinstance\u001b[0m\u001b[1;33m(\u001b[0m\u001b[0mX\u001b[0m\u001b[1;33m,\u001b[0m \u001b[1;33m(\u001b[0m\u001b[0mKDTree\u001b[0m\u001b[1;33m,\u001b[0m \u001b[0mBallTree\u001b[0m\u001b[1;33m)\u001b[0m\u001b[1;33m)\u001b[0m\u001b[1;33m:\u001b[0m\u001b[1;33m\u001b[0m\u001b[1;33m\u001b[0m\u001b[0m\n\u001b[1;32m--> 892\u001b[1;33m             \u001b[0mX\u001b[0m\u001b[1;33m,\u001b[0m \u001b[0my\u001b[0m \u001b[1;33m=\u001b[0m \u001b[0mcheck_X_y\u001b[0m\u001b[1;33m(\u001b[0m\u001b[0mX\u001b[0m\u001b[1;33m,\u001b[0m \u001b[0my\u001b[0m\u001b[1;33m,\u001b[0m \u001b[1;34m\"csr\"\u001b[0m\u001b[1;33m,\u001b[0m \u001b[0mmulti_output\u001b[0m\u001b[1;33m=\u001b[0m\u001b[1;32mTrue\u001b[0m\u001b[1;33m)\u001b[0m\u001b[1;33m\u001b[0m\u001b[1;33m\u001b[0m\u001b[0m\n\u001b[0m\u001b[0;32m    893\u001b[0m \u001b[1;33m\u001b[0m\u001b[0m\n\u001b[0;32m    894\u001b[0m         \u001b[1;32mif\u001b[0m \u001b[0my\u001b[0m\u001b[1;33m.\u001b[0m\u001b[0mndim\u001b[0m \u001b[1;33m==\u001b[0m \u001b[1;36m1\u001b[0m \u001b[1;32mor\u001b[0m \u001b[0my\u001b[0m\u001b[1;33m.\u001b[0m\u001b[0mndim\u001b[0m \u001b[1;33m==\u001b[0m \u001b[1;36m2\u001b[0m \u001b[1;32mand\u001b[0m \u001b[0my\u001b[0m\u001b[1;33m.\u001b[0m\u001b[0mshape\u001b[0m\u001b[1;33m[\u001b[0m\u001b[1;36m1\u001b[0m\u001b[1;33m]\u001b[0m \u001b[1;33m==\u001b[0m \u001b[1;36m1\u001b[0m\u001b[1;33m:\u001b[0m\u001b[1;33m\u001b[0m\u001b[1;33m\u001b[0m\u001b[0m\n",
      "\u001b[1;32m~\\Anaconda3\\lib\\site-packages\\sklearn\\utils\\validation.py\u001b[0m in \u001b[0;36mcheck_X_y\u001b[1;34m(X, y, accept_sparse, accept_large_sparse, dtype, order, copy, force_all_finite, ensure_2d, allow_nd, multi_output, ensure_min_samples, ensure_min_features, y_numeric, warn_on_dtype, estimator)\u001b[0m\n\u001b[0;32m    717\u001b[0m                     \u001b[0mensure_min_features\u001b[0m\u001b[1;33m=\u001b[0m\u001b[0mensure_min_features\u001b[0m\u001b[1;33m,\u001b[0m\u001b[1;33m\u001b[0m\u001b[1;33m\u001b[0m\u001b[0m\n\u001b[0;32m    718\u001b[0m                     \u001b[0mwarn_on_dtype\u001b[0m\u001b[1;33m=\u001b[0m\u001b[0mwarn_on_dtype\u001b[0m\u001b[1;33m,\u001b[0m\u001b[1;33m\u001b[0m\u001b[1;33m\u001b[0m\u001b[0m\n\u001b[1;32m--> 719\u001b[1;33m                     estimator=estimator)\n\u001b[0m\u001b[0;32m    720\u001b[0m     \u001b[1;32mif\u001b[0m \u001b[0mmulti_output\u001b[0m\u001b[1;33m:\u001b[0m\u001b[1;33m\u001b[0m\u001b[1;33m\u001b[0m\u001b[0m\n\u001b[0;32m    721\u001b[0m         y = check_array(y, 'csr', force_all_finite=True, ensure_2d=False,\n",
      "\u001b[1;32m~\\Anaconda3\\lib\\site-packages\\sklearn\\utils\\validation.py\u001b[0m in \u001b[0;36mcheck_array\u001b[1;34m(array, accept_sparse, accept_large_sparse, dtype, order, copy, force_all_finite, ensure_2d, allow_nd, ensure_min_samples, ensure_min_features, warn_on_dtype, estimator)\u001b[0m\n\u001b[0;32m    494\u001b[0m             \u001b[1;32mtry\u001b[0m\u001b[1;33m:\u001b[0m\u001b[1;33m\u001b[0m\u001b[1;33m\u001b[0m\u001b[0m\n\u001b[0;32m    495\u001b[0m                 \u001b[0mwarnings\u001b[0m\u001b[1;33m.\u001b[0m\u001b[0msimplefilter\u001b[0m\u001b[1;33m(\u001b[0m\u001b[1;34m'error'\u001b[0m\u001b[1;33m,\u001b[0m \u001b[0mComplexWarning\u001b[0m\u001b[1;33m)\u001b[0m\u001b[1;33m\u001b[0m\u001b[1;33m\u001b[0m\u001b[0m\n\u001b[1;32m--> 496\u001b[1;33m                 \u001b[0marray\u001b[0m \u001b[1;33m=\u001b[0m \u001b[0mnp\u001b[0m\u001b[1;33m.\u001b[0m\u001b[0masarray\u001b[0m\u001b[1;33m(\u001b[0m\u001b[0marray\u001b[0m\u001b[1;33m,\u001b[0m \u001b[0mdtype\u001b[0m\u001b[1;33m=\u001b[0m\u001b[0mdtype\u001b[0m\u001b[1;33m,\u001b[0m \u001b[0morder\u001b[0m\u001b[1;33m=\u001b[0m\u001b[0morder\u001b[0m\u001b[1;33m)\u001b[0m\u001b[1;33m\u001b[0m\u001b[1;33m\u001b[0m\u001b[0m\n\u001b[0m\u001b[0;32m    497\u001b[0m             \u001b[1;32mexcept\u001b[0m \u001b[0mComplexWarning\u001b[0m\u001b[1;33m:\u001b[0m\u001b[1;33m\u001b[0m\u001b[1;33m\u001b[0m\u001b[0m\n\u001b[0;32m    498\u001b[0m                 raise ValueError(\"Complex data not supported\\n\"\n",
      "\u001b[1;32m~\\Anaconda3\\lib\\site-packages\\numpy\\core\\numeric.py\u001b[0m in \u001b[0;36masarray\u001b[1;34m(a, dtype, order)\u001b[0m\n\u001b[0;32m    536\u001b[0m \u001b[1;33m\u001b[0m\u001b[0m\n\u001b[0;32m    537\u001b[0m     \"\"\"\n\u001b[1;32m--> 538\u001b[1;33m     \u001b[1;32mreturn\u001b[0m \u001b[0marray\u001b[0m\u001b[1;33m(\u001b[0m\u001b[0ma\u001b[0m\u001b[1;33m,\u001b[0m \u001b[0mdtype\u001b[0m\u001b[1;33m,\u001b[0m \u001b[0mcopy\u001b[0m\u001b[1;33m=\u001b[0m\u001b[1;32mFalse\u001b[0m\u001b[1;33m,\u001b[0m \u001b[0morder\u001b[0m\u001b[1;33m=\u001b[0m\u001b[0morder\u001b[0m\u001b[1;33m)\u001b[0m\u001b[1;33m\u001b[0m\u001b[1;33m\u001b[0m\u001b[0m\n\u001b[0m\u001b[0;32m    539\u001b[0m \u001b[1;33m\u001b[0m\u001b[0m\n\u001b[0;32m    540\u001b[0m \u001b[1;33m\u001b[0m\u001b[0m\n",
      "\u001b[1;32m~\\Anaconda3\\lib\\site-packages\\pandas\\core\\series.py\u001b[0m in \u001b[0;36m__array__\u001b[1;34m(self, dtype)\u001b[0m\n\u001b[0;32m    726\u001b[0m             \u001b[0mwarnings\u001b[0m\u001b[1;33m.\u001b[0m\u001b[0mwarn\u001b[0m\u001b[1;33m(\u001b[0m\u001b[0mmsg\u001b[0m\u001b[1;33m,\u001b[0m \u001b[0mFutureWarning\u001b[0m\u001b[1;33m,\u001b[0m \u001b[0mstacklevel\u001b[0m\u001b[1;33m=\u001b[0m\u001b[1;36m3\u001b[0m\u001b[1;33m)\u001b[0m\u001b[1;33m\u001b[0m\u001b[1;33m\u001b[0m\u001b[0m\n\u001b[0;32m    727\u001b[0m             \u001b[0mdtype\u001b[0m \u001b[1;33m=\u001b[0m \u001b[1;34m'M8[ns]'\u001b[0m\u001b[1;33m\u001b[0m\u001b[1;33m\u001b[0m\u001b[0m\n\u001b[1;32m--> 728\u001b[1;33m         \u001b[1;32mreturn\u001b[0m \u001b[0mnp\u001b[0m\u001b[1;33m.\u001b[0m\u001b[0masarray\u001b[0m\u001b[1;33m(\u001b[0m\u001b[0mself\u001b[0m\u001b[1;33m.\u001b[0m\u001b[0marray\u001b[0m\u001b[1;33m,\u001b[0m \u001b[0mdtype\u001b[0m\u001b[1;33m)\u001b[0m\u001b[1;33m\u001b[0m\u001b[1;33m\u001b[0m\u001b[0m\n\u001b[0m\u001b[0;32m    729\u001b[0m \u001b[1;33m\u001b[0m\u001b[0m\n\u001b[0;32m    730\u001b[0m     \u001b[1;32mdef\u001b[0m \u001b[0m__array_wrap__\u001b[0m\u001b[1;33m(\u001b[0m\u001b[0mself\u001b[0m\u001b[1;33m,\u001b[0m \u001b[0mresult\u001b[0m\u001b[1;33m,\u001b[0m \u001b[0mcontext\u001b[0m\u001b[1;33m=\u001b[0m\u001b[1;32mNone\u001b[0m\u001b[1;33m)\u001b[0m\u001b[1;33m:\u001b[0m\u001b[1;33m\u001b[0m\u001b[1;33m\u001b[0m\u001b[0m\n",
      "\u001b[1;32m~\\Anaconda3\\lib\\site-packages\\numpy\\core\\numeric.py\u001b[0m in \u001b[0;36masarray\u001b[1;34m(a, dtype, order)\u001b[0m\n\u001b[0;32m    536\u001b[0m \u001b[1;33m\u001b[0m\u001b[0m\n\u001b[0;32m    537\u001b[0m     \"\"\"\n\u001b[1;32m--> 538\u001b[1;33m     \u001b[1;32mreturn\u001b[0m \u001b[0marray\u001b[0m\u001b[1;33m(\u001b[0m\u001b[0ma\u001b[0m\u001b[1;33m,\u001b[0m \u001b[0mdtype\u001b[0m\u001b[1;33m,\u001b[0m \u001b[0mcopy\u001b[0m\u001b[1;33m=\u001b[0m\u001b[1;32mFalse\u001b[0m\u001b[1;33m,\u001b[0m \u001b[0morder\u001b[0m\u001b[1;33m=\u001b[0m\u001b[0morder\u001b[0m\u001b[1;33m)\u001b[0m\u001b[1;33m\u001b[0m\u001b[1;33m\u001b[0m\u001b[0m\n\u001b[0m\u001b[0;32m    539\u001b[0m \u001b[1;33m\u001b[0m\u001b[0m\n\u001b[0;32m    540\u001b[0m \u001b[1;33m\u001b[0m\u001b[0m\n",
      "\u001b[1;32m~\\Anaconda3\\lib\\site-packages\\pandas\\core\\arrays\\categorical.py\u001b[0m in \u001b[0;36m__array__\u001b[1;34m(self, dtype)\u001b[0m\n\u001b[0;32m   1289\u001b[0m         \u001b[0mret\u001b[0m \u001b[1;33m=\u001b[0m \u001b[0mtake_1d\u001b[0m\u001b[1;33m(\u001b[0m\u001b[0mself\u001b[0m\u001b[1;33m.\u001b[0m\u001b[0mcategories\u001b[0m\u001b[1;33m.\u001b[0m\u001b[0mvalues\u001b[0m\u001b[1;33m,\u001b[0m \u001b[0mself\u001b[0m\u001b[1;33m.\u001b[0m\u001b[0m_codes\u001b[0m\u001b[1;33m)\u001b[0m\u001b[1;33m\u001b[0m\u001b[1;33m\u001b[0m\u001b[0m\n\u001b[0;32m   1290\u001b[0m         \u001b[1;32mif\u001b[0m \u001b[0mdtype\u001b[0m \u001b[1;32mand\u001b[0m \u001b[1;32mnot\u001b[0m \u001b[0mis_dtype_equal\u001b[0m\u001b[1;33m(\u001b[0m\u001b[0mdtype\u001b[0m\u001b[1;33m,\u001b[0m \u001b[0mself\u001b[0m\u001b[1;33m.\u001b[0m\u001b[0mcategories\u001b[0m\u001b[1;33m.\u001b[0m\u001b[0mdtype\u001b[0m\u001b[1;33m)\u001b[0m\u001b[1;33m:\u001b[0m\u001b[1;33m\u001b[0m\u001b[1;33m\u001b[0m\u001b[0m\n\u001b[1;32m-> 1291\u001b[1;33m             \u001b[1;32mreturn\u001b[0m \u001b[0mnp\u001b[0m\u001b[1;33m.\u001b[0m\u001b[0masarray\u001b[0m\u001b[1;33m(\u001b[0m\u001b[0mret\u001b[0m\u001b[1;33m,\u001b[0m \u001b[0mdtype\u001b[0m\u001b[1;33m)\u001b[0m\u001b[1;33m\u001b[0m\u001b[1;33m\u001b[0m\u001b[0m\n\u001b[0m\u001b[0;32m   1292\u001b[0m         \u001b[1;32mif\u001b[0m \u001b[0mis_extension_array_dtype\u001b[0m\u001b[1;33m(\u001b[0m\u001b[0mret\u001b[0m\u001b[1;33m)\u001b[0m\u001b[1;33m:\u001b[0m\u001b[1;33m\u001b[0m\u001b[1;33m\u001b[0m\u001b[0m\n\u001b[0;32m   1293\u001b[0m             \u001b[1;31m# When we're a Categorical[ExtensionArray], like Interval,\u001b[0m\u001b[1;33m\u001b[0m\u001b[1;33m\u001b[0m\u001b[1;33m\u001b[0m\u001b[0m\n",
      "\u001b[1;32m~\\Anaconda3\\lib\\site-packages\\numpy\\core\\numeric.py\u001b[0m in \u001b[0;36masarray\u001b[1;34m(a, dtype, order)\u001b[0m\n\u001b[0;32m    536\u001b[0m \u001b[1;33m\u001b[0m\u001b[0m\n\u001b[0;32m    537\u001b[0m     \"\"\"\n\u001b[1;32m--> 538\u001b[1;33m     \u001b[1;32mreturn\u001b[0m \u001b[0marray\u001b[0m\u001b[1;33m(\u001b[0m\u001b[0ma\u001b[0m\u001b[1;33m,\u001b[0m \u001b[0mdtype\u001b[0m\u001b[1;33m,\u001b[0m \u001b[0mcopy\u001b[0m\u001b[1;33m=\u001b[0m\u001b[1;32mFalse\u001b[0m\u001b[1;33m,\u001b[0m \u001b[0morder\u001b[0m\u001b[1;33m=\u001b[0m\u001b[0morder\u001b[0m\u001b[1;33m)\u001b[0m\u001b[1;33m\u001b[0m\u001b[1;33m\u001b[0m\u001b[0m\n\u001b[0m\u001b[0;32m    539\u001b[0m \u001b[1;33m\u001b[0m\u001b[0m\n\u001b[0;32m    540\u001b[0m \u001b[1;33m\u001b[0m\u001b[0m\n",
      "\u001b[1;31mValueError\u001b[0m: could not convert string to float: 'F'"
     ]
    }
   ],
   "source": [
    "from sklearn.neighbors import KNeighborsClassifier\n",
    "from sklearn.model_selection import train_test_split\n",
    "\n",
    "X_train, X_test, y_train, y_test = train_test_split(survey.gender, survey.q12,test_size = 0.20, random_state=0)\n",
    "knn = KNeighborsClassifier()\n",
    "\n",
    "knn.fit(X_train, y_train)"
   ]
  },
  {
   "cell_type": "markdown",
   "metadata": {},
   "source": [
    "I tried to do a KNN classifier but was unsuccessful."
   ]
  },
  {
   "cell_type": "code",
   "execution_count": null,
   "metadata": {},
   "outputs": [],
   "source": []
  }
 ],
 "metadata": {
  "kernelspec": {
   "display_name": "Python 3",
   "language": "python",
   "name": "python3"
  },
  "language_info": {
   "codemirror_mode": {
    "name": "ipython",
    "version": 3
   },
   "file_extension": ".py",
   "mimetype": "text/x-python",
   "name": "python",
   "nbconvert_exporter": "python",
   "pygments_lexer": "ipython3",
   "version": "3.7.3"
  }
 },
 "nbformat": 4,
 "nbformat_minor": 4
}
